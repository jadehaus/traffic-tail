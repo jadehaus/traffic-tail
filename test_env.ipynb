{
 "cells": [
  {
   "cell_type": "code",
   "execution_count": 1,
   "metadata": {},
   "outputs": [],
   "source": [
    "USE_GUI = True\n",
    "NUM_SECONDS = 1800"
   ]
  },
  {
   "cell_type": "code",
   "execution_count": 2,
   "metadata": {},
   "outputs": [],
   "source": [
    "class DefaultConfig:\n",
    "    name = \"default\"\n",
    "    use_gui = USE_GUI\n",
    "    num_seconds = NUM_SECONDS\n",
    "    tailgating = False\n",
    "    default_mode = 31\n",
    "\n",
    "\n",
    "class OverspeedConfig:\n",
    "    name = \"overspeed\"\n",
    "    use_gui = USE_GUI\n",
    "    num_seconds = NUM_SECONDS\n",
    "    tailgating = False\n",
    "    default_mode = 24\n",
    "    \n",
    "\n",
    "class TailgatingConfig:\n",
    "    name = \"tailgating\"\n",
    "    use_gui = USE_GUI\n",
    "    num_seconds = NUM_SECONDS\n",
    "    tailgating = True\n",
    "    default_mode = 31\n",
    "    \n",
    "\n",
    "class TailgatingOverspeedConfig:\n",
    "    name = \"tailgating_overspeed\"\n",
    "    use_gui = USE_GUI\n",
    "    num_seconds = NUM_SECONDS\n",
    "    tailgating = True\n",
    "    default_mode = 24"
   ]
  },
  {
   "cell_type": "code",
   "execution_count": 3,
   "metadata": {},
   "outputs": [
    {
     "name": "stdout",
     "output_type": "stream",
     "text": [
      "Creating default environment.\n",
      " Retrying in 1 seconds\n",
      "Step #0.00 (0ms ?*RT. ?UPS, TraCI: 5ms, vehicles TOT 0 ACT 0 BUF 0)                      \n",
      " Retrying in 1 seconds\n"
     ]
    },
    {
     "name": "stderr",
     "output_type": "stream",
     "text": [
      "Simulating: 100%|██████████| 1800/1800 [00:16<00:00, 127.84it/s]"
     ]
    },
    {
     "name": "stdout",
     "output_type": "stream",
     "text": [
      "Total reward: -56.120000000000026\n"
     ]
    }
   ],
   "source": [
    "import warnings\n",
    "warnings.filterwarnings(\"ignore\")\n",
    "\n",
    "from tqdm import tqdm\n",
    "from traffic_tail.environment import create_env\n",
    "\n",
    "config = DefaultConfig()\n",
    "env = create_env(config)\n",
    "\n",
    "total_reward = 0\n",
    "state = env.reset()\n",
    "done = {\"__all__\": False}\n",
    "\n",
    "pbar = tqdm(total=config.num_seconds, desc=\"Simulating\")\n",
    "while not done[\"__all__\"]:\n",
    "    actions = {\n",
    "        ts_id: env.action_spaces(ts_id).sample()\n",
    "        for ts_id in env.ts_ids\n",
    "    }\n",
    "    state, reward, done, _ = env.step(actions)\n",
    "    total_reward += sum(reward.values())\n",
    "    pbar.update(env.delta_time)\n",
    "\n",
    "env.close()\n",
    "print(f\"Total reward: {total_reward}\")"
   ]
  },
  {
   "cell_type": "code",
   "execution_count": null,
   "metadata": {},
   "outputs": [
    {
     "name": "stdout",
     "output_type": "stream",
     "text": [
      "Creating tailgating environment.\n",
      " Retrying in 1 seconds\n",
      "Step #0.00 (0ms ?*RT. ?UPS, TraCI: 4ms, vehicles TOT 0 ACT 0 BUF 0)                      \n",
      " Retrying in 1 seconds\n"
     ]
    },
    {
     "name": "stderr",
     "output_type": "stream",
     "text": [
      "Simulating: 100%|██████████| 1800/1800 [00:20<00:00, 87.98it/s] \n"
     ]
    },
    {
     "name": "stdout",
     "output_type": "stream",
     "text": [
      "Total reward: -727.4300000000001\n"
     ]
    },
    {
     "name": "stderr",
     "output_type": "stream",
     "text": []
    }
   ],
   "source": [
    "import warnings\n",
    "warnings.filterwarnings(\"ignore\")\n",
    "\n",
    "from tqdm import tqdm\n",
    "from traffic_tail.environment import create_env\n",
    "\n",
    "config = TailgatingConfig()\n",
    "env = create_env(config)\n",
    "\n",
    "total_reward = 0\n",
    "state = env.reset()\n",
    "done = {\"__all__\": False}\n",
    "\n",
    "pbar = tqdm(total=config.num_seconds, desc=\"Simulating\")\n",
    "while not done[\"__all__\"]:\n",
    "    actions = {\n",
    "        ts_id: env.action_spaces(ts_id).sample()\n",
    "        for ts_id in env.ts_ids\n",
    "    }\n",
    "    state, reward, done, _ = env.step(actions)\n",
    "    total_reward += sum(reward.values())\n",
    "    pbar.update(env.delta_time)\n",
    "\n",
    "env.close()\n",
    "print(f\"Total reward: {total_reward}\")"
   ]
  }
 ],
 "metadata": {
  "kernelspec": {
   "display_name": "sumo",
   "language": "python",
   "name": "python3"
  },
  "language_info": {
   "codemirror_mode": {
    "name": "ipython",
    "version": 3
   },
   "file_extension": ".py",
   "mimetype": "text/x-python",
   "name": "python",
   "nbconvert_exporter": "python",
   "pygments_lexer": "ipython3",
   "version": "3.9.7"
  }
 },
 "nbformat": 4,
 "nbformat_minor": 2
}
