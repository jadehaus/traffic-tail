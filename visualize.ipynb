{
 "cells": [
  {
   "cell_type": "code",
   "execution_count": 1,
   "metadata": {},
   "outputs": [],
   "source": [
    "USE_SUMO_GUI = True # set to True to use sumo-gui\n",
    "TOTAL_TIME = 7200 # 60*60*2 = 2 hours (e.g. rush hour 7am - 9am)"
   ]
  },
  {
   "cell_type": "code",
   "execution_count": 2,
   "metadata": {},
   "outputs": [
    {
     "name": "stdout",
     "output_type": "stream",
     "text": [
      " Retrying in 1 seconds\n",
      "Step #0.00 (0ms ?*RT. ?UPS, TraCI: 16ms, vehicles TOT 0 ACT 0 BUF 0)                     \n",
      " Retrying in 1 seconds\n"
     ]
    },
    {
     "name": "stderr",
     "output_type": "stream",
     "text": [
      "100%|██████████| 7200/7200 [01:04<00:00, 93.40it/s] "
     ]
    },
    {
     "name": "stdout",
     "output_type": "stream",
     "text": [
      "Total reward: -124.61000000000013\n"
     ]
    },
    {
     "name": "stderr",
     "output_type": "stream",
     "text": [
      "100%|██████████| 7200/7200 [01:20<00:00, 93.40it/s]"
     ]
    }
   ],
   "source": [
    "import warnings\n",
    "warnings.filterwarnings(\"ignore\")\n",
    "\n",
    "from tqdm import tqdm\n",
    "from traffic_tail.environment import create_env\n",
    "\n",
    "\n",
    "env = create_env(\n",
    "    tailgating=False, \n",
    "    use_gui=USE_SUMO_GUI, \n",
    "    num_seconds=TOTAL_TIME,\n",
    ")\n",
    "\n",
    "total_reward = 0\n",
    "state = env.reset()\n",
    "done = {\"__all__\": False}\n",
    "\n",
    "pbar = tqdm(total=TOTAL_TIME)\n",
    "while not done[\"__all__\"]:\n",
    "    actions = {\n",
    "        ts_id: env.action_spaces(ts_id).sample()\n",
    "        for ts_id in env.ts_ids\n",
    "    }\n",
    "    state, reward, done, _ = env.step(actions)\n",
    "    total_reward += sum(reward.values())\n",
    "    pbar.update(env.delta_time)\n",
    "\n",
    "env.close()\n",
    "print(f\"Total reward: {total_reward}\")"
   ]
  },
  {
   "cell_type": "code",
   "execution_count": 3,
   "metadata": {},
   "outputs": [
    {
     "name": "stdout",
     "output_type": "stream",
     "text": [
      " Retrying in 1 seconds\n",
      "Step #0.00 (0ms ?*RT. ?UPS, TraCI: 17ms, vehicles TOT 0 ACT 0 BUF 0)                     \n",
      " Retrying in 1 seconds\n"
     ]
    },
    {
     "name": "stderr",
     "output_type": "stream",
     "text": [
      "100%|██████████| 7200/7200 [01:12<00:00, 99.90it/s] \n"
     ]
    },
    {
     "name": "stdout",
     "output_type": "stream",
     "text": [
      "Total reward: -605.1600000000003\n"
     ]
    },
    {
     "name": "stderr",
     "output_type": "stream",
     "text": []
    }
   ],
   "source": [
    "import warnings\n",
    "warnings.filterwarnings(\"ignore\")\n",
    "\n",
    "from tqdm import tqdm\n",
    "from traffic_tail.environment import create_env\n",
    "\n",
    "\n",
    "env = create_env(\n",
    "    tailgating=True, \n",
    "    use_gui=USE_SUMO_GUI, \n",
    "    num_seconds=TOTAL_TIME\n",
    ")\n",
    "\n",
    "total_reward = 0\n",
    "state = env.reset()\n",
    "done = {\"__all__\": False}\n",
    "\n",
    "pbar = tqdm(total=TOTAL_TIME)\n",
    "while not done[\"__all__\"]:\n",
    "    actions = {\n",
    "        ts_id: env.action_spaces(ts_id).sample()\n",
    "        for ts_id in env.ts_ids\n",
    "    }\n",
    "    state, reward, done, _ = env.step(actions)\n",
    "    total_reward += sum(reward.values())\n",
    "    pbar.update(env.delta_time)\n",
    "    \n",
    "env.close()\n",
    "print(f\"Total reward: {total_reward}\")"
   ]
  },
  {
   "cell_type": "code",
   "execution_count": null,
   "metadata": {},
   "outputs": [],
   "source": [
    "from traffic_tail.trainer import SUMOTrainer\n",
    "\n",
    "trainer = SUMOTrainer(\n",
    "    env='default', \n",
    "    use_gui=USE_SUMO_GUI,\n",
    "    num_seconds=TOTAL_TIME,\n",
    ")\n",
    "trainer.train(episodes=30) # train for 30 days of rush hour traffic\n",
    "trainer.save('results/pretrained_model.pkl')"
   ]
  },
  {
   "cell_type": "code",
   "execution_count": null,
   "metadata": {},
   "outputs": [],
   "source": [
    "agents = trainer.agents\n",
    "env = create_env(\n",
    "    tailgating=False, \n",
    "    use_gui=USE_SUMO_GUI, \n",
    "    num_seconds=TOTAL_TIME\n",
    ")\n",
    "\n",
    "total_reward = 0\n",
    "state = env.reset()\n",
    "done = {\"__all__\": False}\n",
    "\n",
    "pbar = tqdm(total=TOTAL_TIME)\n",
    "while not done[\"__all__\"]:\n",
    "    actions = {\n",
    "        ts_id: agents[ts_id].act(state[ts_id]) \n",
    "        for ts_id in state.keys()\n",
    "    }\n",
    "    state, reward, done, _ = env.step(actions)\n",
    "    total_reward += sum(reward.values())\n",
    "    pbar.update(env.delta_time)\n",
    "\n",
    "env.close()\n",
    "print(f\"Total reward: {total_reward}\")"
   ]
  },
  {
   "cell_type": "code",
   "execution_count": null,
   "metadata": {},
   "outputs": [],
   "source": [
    "agents = trainer.agents\n",
    "env = create_env(\n",
    "    tailgating=True, \n",
    "    use_gui=USE_SUMO_GUI, \n",
    "    num_seconds=TOTAL_TIME\n",
    ")\n",
    "\n",
    "total_reward = 0\n",
    "state = env.reset()\n",
    "done = {\"__all__\": False}\n",
    "\n",
    "pbar = tqdm(total=env.sim_max_time)\n",
    "while not done[\"__all__\"]:\n",
    "    actions = {\n",
    "        ts_id: agents[ts_id].act(state[ts_id]) \n",
    "        for ts_id in state.keys()\n",
    "    }\n",
    "    state, reward, done, _ = env.step(actions)\n",
    "    total_reward += sum(reward.values())\n",
    "    pbar.update(env.delta_time)\n",
    "\n",
    "env.close()\n",
    "print(f\"Total reward: {total_reward}\")"
   ]
  }
 ],
 "metadata": {
  "kernelspec": {
   "display_name": "sumo",
   "language": "python",
   "name": "python3"
  },
  "language_info": {
   "codemirror_mode": {
    "name": "ipython",
    "version": 3
   },
   "file_extension": ".py",
   "mimetype": "text/x-python",
   "name": "python",
   "nbconvert_exporter": "python",
   "pygments_lexer": "ipython3",
   "version": "3.9.7"
  }
 },
 "nbformat": 4,
 "nbformat_minor": 2
}
