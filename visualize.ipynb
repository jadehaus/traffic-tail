{
 "cells": [
  {
   "cell_type": "code",
   "execution_count": 1,
   "metadata": {},
   "outputs": [],
   "source": [
    "# set to True to use GUI and visualization\n",
    "USE_GUI = False\n",
    "\n",
    "# number of steps to run the simulation\n",
    "NUM_STEPS = 500"
   ]
  },
  {
   "cell_type": "code",
   "execution_count": 2,
   "metadata": {},
   "outputs": [
    {
     "name": "stdout",
     "output_type": "stream",
     "text": [
      " Retrying in 1 seconds\n",
      "Step #0.00 (0ms ?*RT. ?UPS, TraCI: 14ms, vehicles TOT 0 ACT 0 BUF 0)                     \n",
      " Retrying in 1 seconds\n",
      "Step #2500.00 (2ms ~= 500.00*RT, ~87000.00UPS, TraCI: 42ms, vehicles TOT 2289 ACT 174 BUF \n",
      "Total reward: -157.40000000000003\n"
     ]
    }
   ],
   "source": [
    "import time\n",
    "import warnings\n",
    "warnings.filterwarnings(\"ignore\")\n",
    "\n",
    "from traffic_tail.environment import create_env\n",
    "\n",
    "\n",
    "env = create_env(tailgating=False, use_gui=USE_GUI)\n",
    "total_reward = 0\n",
    "state = env.reset()\n",
    "for _ in range(NUM_STEPS):\n",
    "    actions = {\n",
    "        ts_id: env.action_spaces(ts_id).sample()\n",
    "        for ts_id in env.ts_ids\n",
    "    }\n",
    "    state, reward, done, _ = env.step(actions)\n",
    "    total_reward += sum(reward.values())\n",
    "    \n",
    "    if USE_GUI:\n",
    "        time.sleep(0.25)\n",
    "\n",
    "env.close()\n",
    "print(f\"Total reward: {total_reward}\")"
   ]
  },
  {
   "cell_type": "code",
   "execution_count": 3,
   "metadata": {},
   "outputs": [
    {
     "name": "stdout",
     "output_type": "stream",
     "text": [
      " Retrying in 1 seconds\n",
      "Step #0.00 (0ms ?*RT. ?UPS, TraCI: 16ms, vehicles TOT 0 ACT 0 BUF 0)                     \n",
      " Retrying in 1 seconds\n",
      "Step #2500.00 (1ms ~= 1000.00*RT, ~227000.00UPS, TraCI: 50ms, vehicles TOT 1941 ACT 227 BU\n",
      "Total reward: -903.1299999999994\n"
     ]
    }
   ],
   "source": [
    "env = create_env(tailgating=True, use_gui=USE_GUI)\n",
    "total_reward = 0\n",
    "state = env.reset()\n",
    "for _ in range(NUM_STEPS):\n",
    "    actions = {\n",
    "        ts_id: env.action_spaces(ts_id).sample()\n",
    "        for ts_id in env.ts_ids\n",
    "    }\n",
    "    state, reward, done, _ = env.step(actions)\n",
    "    total_reward += sum(reward.values())\n",
    "    \n",
    "    if USE_GUI:\n",
    "        time.sleep(0.25)\n",
    "    \n",
    "env.close()\n",
    "print(f\"Total reward: {total_reward}\")"
   ]
  },
  {
   "cell_type": "code",
   "execution_count": 4,
   "metadata": {},
   "outputs": [
    {
     "name": "stdout",
     "output_type": "stream",
     "text": [
      " Retrying in 1 seconds\n",
      "Step #0.00 (0ms ?*RT. ?UPS, TraCI: 17ms, vehicles TOT 0 ACT 0 BUF 0)                     \n",
      " Retrying in 1 seconds\n",
      "Step #86400.00 (30ms ~= 33.33*RT, ~5833.33UPS, TraCI: 448ms, vehicles TOT 5350 ACT 175 BUF #18000.00 (5ms ~= 200.00*RT, ~35000.00UPS, TraCI: 67ms, vehicles TOT 5350 ACT 175 BUF000.00 (10ms ~= 100.00*RT, ~17500.00UPS, TraCI: 73ms, vehicles TOT 5350 ACT 175 BU00 (15ms ~= 66.67*RT, ~11666.67UPS, TraCI: 83ms, vehicles TOT 5350 ACT 175 BUF27ms ~= 37.04*RT, ~6481.48UPS, TraCI: 140ms, vehicles TOT 5350 ACT 175 BUF\n"
     ]
    },
    {
     "data": {
      "text/plain": [
       "{'B': <linear_rl.true_online_sarsa.TrueOnlineSarsaLambda at 0x7fae99a872e0>,\n",
       " 'E': <linear_rl.true_online_sarsa.TrueOnlineSarsaLambda at 0x7fae99a87160>}"
      ]
     },
     "execution_count": 4,
     "metadata": {},
     "output_type": "execute_result"
    }
   ],
   "source": [
    "from traffic_tail.trainer import Trainer\n",
    "\n",
    "trainer = Trainer(env='default')\n",
    "trainer.train()"
   ]
  },
  {
   "cell_type": "code",
   "execution_count": 5,
   "metadata": {},
   "outputs": [
    {
     "name": "stdout",
     "output_type": "stream",
     "text": [
      " Retrying in 1 seconds\n",
      "Step #0.00 (0ms ?*RT. ?UPS, TraCI: 10ms, vehicles TOT 0 ACT 0 BUF 0)                     \n",
      " Retrying in 1 seconds\n",
      "Step #2500.00 (3ms ~= 333.33*RT, ~70333.33UPS, TraCI: 109ms, vehicles TOT 1824 ACT 211 BUF\n",
      "Total reward: -326.6299999999994\n"
     ]
    }
   ],
   "source": [
    "agents = trainer.agents\n",
    "env = create_env(tailgating=False, use_gui=USE_GUI)\n",
    "\n",
    "total_reward = 0\n",
    "state = env.reset()\n",
    "for _ in range(NUM_STEPS):\n",
    "    actions = {\n",
    "        ts_id: agents[ts_id].act(state[ts_id]) \n",
    "        for ts_id in state.keys()\n",
    "    }\n",
    "    state, reward, done, _ = env.step(actions)\n",
    "    total_reward += sum(reward.values())\n",
    "    \n",
    "    if USE_GUI:\n",
    "        time.sleep(0.25)\n",
    "\n",
    "env.close()\n",
    "print(f\"Total reward: {total_reward}\")"
   ]
  },
  {
   "cell_type": "code",
   "execution_count": 6,
   "metadata": {},
   "outputs": [
    {
     "name": "stdout",
     "output_type": "stream",
     "text": [
      " Retrying in 1 seconds\n",
      "Step #0.00 (0ms ?*RT. ?UPS, TraCI: 16ms, vehicles TOT 0 ACT 0 BUF 0)                     \n",
      " Retrying in 1 seconds\n",
      "Step #2500.00 (3ms ~= 333.33*RT, ~77666.67UPS, TraCI: 105ms, vehicles TOT 665 ACT 233 BUF \n",
      "Total reward: -1000.6299999999967\n"
     ]
    }
   ],
   "source": [
    "agents = trainer.agents\n",
    "env = create_env(tailgating=True, use_gui=USE_GUI)\n",
    "\n",
    "total_reward = 0\n",
    "state = env.reset()\n",
    "for _ in range(NUM_STEPS):\n",
    "    actions = {\n",
    "        ts_id: agents[ts_id].act(state[ts_id]) \n",
    "        for ts_id in state.keys()\n",
    "    }\n",
    "    state, reward, done, _ = env.step(actions)\n",
    "    total_reward += sum(reward.values())\n",
    "    \n",
    "    if USE_GUI:\n",
    "        time.sleep(0.25)\n",
    "\n",
    "env.close()\n",
    "print(f\"Total reward: {total_reward}\")"
   ]
  }
 ],
 "metadata": {
  "kernelspec": {
   "display_name": "sumo",
   "language": "python",
   "name": "python3"
  },
  "language_info": {
   "codemirror_mode": {
    "name": "ipython",
    "version": 3
   },
   "file_extension": ".py",
   "mimetype": "text/x-python",
   "name": "python",
   "nbconvert_exporter": "python",
   "pygments_lexer": "ipython3",
   "version": "3.9.7"
  }
 },
 "nbformat": 4,
 "nbformat_minor": 2
}
