{
 "cells": [
  {
   "cell_type": "code",
   "execution_count": null,
   "metadata": {},
   "outputs": [],
   "source": [
    "USE_SUMO_GUI = True # set to True to use sumo-gui\n",
    "TOTAL_TIME = 7200 # 60*60*2 = 2 hours (e.g. rush hour 7am - 9am)"
   ]
  },
  {
   "cell_type": "code",
   "execution_count": null,
   "metadata": {},
   "outputs": [],
   "source": [
    "import warnings\n",
    "warnings.filterwarnings(\"ignore\")\n",
    "\n",
    "from tqdm import tqdm\n",
    "from traffic_tail.environment import create_env\n",
    "\n",
    "\n",
    "env = create_env(\n",
    "    tailgating=False, \n",
    "    use_gui=USE_SUMO_GUI, \n",
    "    num_seconds=TOTAL_TIME,\n",
    ")\n",
    "\n",
    "total_reward = 0\n",
    "state = env.reset()\n",
    "done = {\"__all__\": False}\n",
    "\n",
    "pbar = tqdm(total=TOTAL_TIME)\n",
    "while not done[\"__all__\"]:\n",
    "    actions = {\n",
    "        ts_id: env.action_spaces(ts_id).sample()\n",
    "        for ts_id in env.ts_ids\n",
    "    }\n",
    "    state, reward, done, _ = env.step(actions)\n",
    "    total_reward += sum(reward.values())\n",
    "    pbar.update(env.delta_time)\n",
    "\n",
    "env.close()\n",
    "print(f\"Total reward: {total_reward}\")"
   ]
  },
  {
   "cell_type": "code",
   "execution_count": null,
   "metadata": {},
   "outputs": [],
   "source": [
    "import warnings\n",
    "warnings.filterwarnings(\"ignore\")\n",
    "\n",
    "from tqdm import tqdm\n",
    "from traffic_tail.environment import create_env\n",
    "\n",
    "\n",
    "env = create_env(\n",
    "    tailgating=True, \n",
    "    use_gui=USE_SUMO_GUI, \n",
    "    num_seconds=TOTAL_TIME\n",
    ")\n",
    "\n",
    "total_reward = 0\n",
    "state = env.reset()\n",
    "done = {\"__all__\": False}\n",
    "\n",
    "pbar = tqdm(total=TOTAL_TIME)\n",
    "while not done[\"__all__\"]:\n",
    "    actions = {\n",
    "        ts_id: env.action_spaces(ts_id).sample()\n",
    "        for ts_id in env.ts_ids\n",
    "    }\n",
    "    state, reward, done, _ = env.step(actions)\n",
    "    total_reward += sum(reward.values())\n",
    "    pbar.update(env.delta_time)\n",
    "    \n",
    "env.close()\n",
    "print(f\"Total reward: {total_reward}\")"
   ]
  },
  {
   "cell_type": "code",
   "execution_count": null,
   "metadata": {},
   "outputs": [],
   "source": [
    "from traffic_tail.trainer import SUMOTrainer\n",
    "\n",
    "trainer = SUMOTrainer(\n",
    "    env='default', \n",
    "    use_gui=USE_SUMO_GUI,\n",
    "    num_seconds=TOTAL_TIME,\n",
    ")\n",
    "trainer.train(episodes=5) # train for 5 weekdays of rush hour traffic"
   ]
  },
  {
   "cell_type": "code",
   "execution_count": null,
   "metadata": {},
   "outputs": [],
   "source": [
    "trainer.load('results/default/best_agents.pkl') # load the best model\n",
    "agents = trainer.agents\n",
    "\n",
    "env = create_env(\n",
    "    tailgating=False, \n",
    "    use_gui=USE_SUMO_GUI, \n",
    "    num_seconds=TOTAL_TIME\n",
    ")\n",
    "\n",
    "total_reward = 0\n",
    "state = env.reset()\n",
    "done = {\"__all__\": False}\n",
    "\n",
    "pbar = tqdm(total=TOTAL_TIME)\n",
    "while not done[\"__all__\"]:\n",
    "    actions = {\n",
    "        ts_id: agents[ts_id].act(state[ts_id]) \n",
    "        for ts_id in state.keys()\n",
    "    }\n",
    "    state, reward, done, _ = env.step(actions)\n",
    "    total_reward += sum(reward.values())\n",
    "    pbar.update(env.delta_time)\n",
    "\n",
    "env.close()\n",
    "print(f\"Total reward: {total_reward}\")"
   ]
  },
  {
   "cell_type": "code",
   "execution_count": null,
   "metadata": {},
   "outputs": [],
   "source": [
    "agents = trainer.agents\n",
    "env = create_env(\n",
    "    tailgating=True, \n",
    "    use_gui=USE_SUMO_GUI, \n",
    "    num_seconds=TOTAL_TIME\n",
    ")\n",
    "\n",
    "total_reward = 0\n",
    "state = env.reset()\n",
    "done = {\"__all__\": False}\n",
    "\n",
    "pbar = tqdm(total=env.sim_max_time)\n",
    "while not done[\"__all__\"]:\n",
    "    actions = {\n",
    "        ts_id: agents[ts_id].act(state[ts_id]) \n",
    "        for ts_id in state.keys()\n",
    "    }\n",
    "    state, reward, done, _ = env.step(actions)\n",
    "    total_reward += sum(reward.values())\n",
    "    pbar.update(env.delta_time)\n",
    "\n",
    "env.close()\n",
    "print(f\"Total reward: {total_reward}\")"
   ]
  }
 ],
 "metadata": {
  "kernelspec": {
   "display_name": "sumo",
   "language": "python",
   "name": "python3"
  },
  "language_info": {
   "codemirror_mode": {
    "name": "ipython",
    "version": 3
   },
   "file_extension": ".py",
   "mimetype": "text/x-python",
   "name": "python",
   "nbconvert_exporter": "python",
   "pygments_lexer": "ipython3",
   "version": "3.9.7"
  }
 },
 "nbformat": 4,
 "nbformat_minor": 2
}
