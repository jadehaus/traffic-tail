{
 "cells": [
  {
   "cell_type": "code",
   "execution_count": null,
   "metadata": {},
   "outputs": [],
   "source": [
    "import os\n",
    "os.environ['SUMO_HOME'] = '/usr/share/sumo'"
   ]
  },
  {
   "cell_type": "code",
   "execution_count": null,
   "metadata": {},
   "outputs": [],
   "source": [
    "import time\n",
    "from environment import create_env\n",
    "\n",
    "\n",
    "env = create_env(tailgating=False)\n",
    "total_reward = 0\n",
    "state = env.reset()\n",
    "for _ in range(100):\n",
    "    actions = {\n",
    "        ts_id: env.action_spaces(ts_id).sample()\n",
    "        for ts_id in env.ts_ids\n",
    "    }\n",
    "    state, reward, done, _ = env.step(actions)\n",
    "    total_reward += sum(reward.values())\n",
    "    time.sleep(0.25)\n",
    "    \n",
    "print(f\"Total reward: {total_reward}\")"
   ]
  },
  {
   "cell_type": "code",
   "execution_count": null,
   "metadata": {},
   "outputs": [],
   "source": [
    "env = create_env(tailgating=True)\n",
    "total_reward = 0\n",
    "state = env.reset()\n",
    "for _ in range(100):\n",
    "    actions = {\n",
    "        ts_id: env.action_spaces(ts_id).sample()\n",
    "        for ts_id in env.ts_ids\n",
    "    }\n",
    "    state, reward, done, _ = env.step(actions)\n",
    "    total_reward += sum(reward.values())\n",
    "    time.sleep(0.25)\n",
    "    \n",
    "print(f\"Total reward: {total_reward}\")"
   ]
  },
  {
   "cell_type": "code",
   "execution_count": null,
   "metadata": {},
   "outputs": [],
   "source": [
    "from trainer import Trainer\n",
    "\n",
    "trainer = Trainer(env='default')\n",
    "trainer.train()"
   ]
  },
  {
   "cell_type": "code",
   "execution_count": null,
   "metadata": {},
   "outputs": [],
   "source": [
    "agents = trainer.agents\n",
    "env = create_env(tailgating=False)\n",
    "\n",
    "total_reward = 0\n",
    "state = env.reset()\n",
    "for _ in range(100):\n",
    "    actions = {\n",
    "        ts_id: agents[ts_id].act(state[ts_id]) \n",
    "        for ts_id in state.keys()\n",
    "    }\n",
    "    state, reward, done, _ = env.step(actions)\n",
    "    total_reward += sum(reward.values())\n",
    "    time.sleep(0.25)\n",
    "    \n",
    "print(f\"Total reward: {total_reward}\")"
   ]
  },
  {
   "cell_type": "code",
   "execution_count": null,
   "metadata": {},
   "outputs": [],
   "source": [
    "agents = trainer.agents\n",
    "env = create_env(tailgating=True)\n",
    "\n",
    "total_reward = 0\n",
    "state = env.reset()\n",
    "for _ in range(100):\n",
    "    actions = {\n",
    "        ts_id: agents[ts_id].act(state[ts_id]) \n",
    "        for ts_id in state.keys()\n",
    "    }\n",
    "    state, reward, done, _ = env.step(actions)\n",
    "    total_reward += sum(reward.values())\n",
    "    time.sleep(0.25)\n",
    "    \n",
    "print(f\"Total reward: {total_reward}\")"
   ]
  }
 ],
 "metadata": {
  "kernelspec": {
   "display_name": "sumo",
   "language": "python",
   "name": "python3"
  },
  "language_info": {
   "codemirror_mode": {
    "name": "ipython",
    "version": 3
   },
   "file_extension": ".py",
   "mimetype": "text/x-python",
   "name": "python",
   "nbconvert_exporter": "python",
   "pygments_lexer": "ipython3",
   "version": "3.9.7"
  }
 },
 "nbformat": 4,
 "nbformat_minor": 2
}
